{
 "cells": [
  {
   "cell_type": "code",
   "execution_count": 9,
   "metadata": {},
   "outputs": [],
   "source": [
    "import requests"
   ]
  },
  {
   "cell_type": "code",
   "execution_count": 10,
   "metadata": {},
   "outputs": [],
   "source": [
    "import requests\n",
    "\n",
    "def getLocation(city):\n",
    "    api_url = 'https://api.api-ninjas.com/v1/geocoding?city={}'.format(city)\n",
    "    response = requests.get(api_url + city, headers={'X-Api-Key': 'YOUR_API_KEY'})\n",
    "    if response.status_code == requests.codes.ok:\n",
    "        print(response.text)\n",
    "    else:\n",
    "        print(\"Error:\", response.status_code, response.text)"
   ]
  },
  {
   "cell_type": "code",
   "execution_count": 11,
   "metadata": {},
   "outputs": [
    {
     "name": "stdout",
     "output_type": "stream",
     "text": [
      "Error: 400 {\"error\": \"Invalid API Key.\"}\n"
     ]
    }
   ],
   "source": [
    "getLocation(\"london\")"
   ]
  },
  {
   "cell_type": "code",
   "execution_count": 12,
   "metadata": {},
   "outputs": [
    {
     "name": "stdout",
     "output_type": "stream",
     "text": [
      "{\"cloud_pct\": 0, \"temp\": 21, \"feels_like\": 20, \"humidity\": 47, \"min_temp\": 18, \"max_temp\": 21, \"wind_speed\": 3.6, \"wind_degrees\": 0, \"sunrise\": 1716609325, \"sunset\": 1716667192}\n"
     ]
    }
   ],
   "source": [
    "import requests\n",
    "\n",
    "city = 'london'\n",
    "api_url = 'https://api.api-ninjas.com/v1/weather?city={}'.format(city)\n",
    "response = requests.get(api_url, headers={'X-Api-Key': 'hinC9UaHSGY0ZauTcpshNQ==FgQdVsvJFbC4FnNP'})\n",
    "if response.status_code == requests.codes.ok:\n",
    "    print(response.text)\n",
    "else:\n",
    "    print(\"Error:\", response.status_code, response.text)"
   ]
  },
  {
   "cell_type": "code",
   "execution_count": null,
   "metadata": {},
   "outputs": [],
   "source": []
  }
 ],
 "metadata": {
  "kernelspec": {
   "display_name": "base",
   "language": "python",
   "name": "python3"
  },
  "language_info": {
   "codemirror_mode": {
    "name": "ipython",
    "version": 3
   },
   "file_extension": ".py",
   "mimetype": "text/x-python",
   "name": "python",
   "nbconvert_exporter": "python",
   "pygments_lexer": "ipython3",
   "version": "3.11.5"
  }
 },
 "nbformat": 4,
 "nbformat_minor": 2
}
